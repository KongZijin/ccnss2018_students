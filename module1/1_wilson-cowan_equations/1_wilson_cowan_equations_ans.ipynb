{
  "nbformat": 4,
  "nbformat_minor": 0,
  "metadata": {
    "colab": {
      "name": "1_wilson-cowan_equations_ans",
      "version": "0.3.2",
      "views": {},
      "default_view": {},
      "provenance": [
        {
          "file_id": "10rOVUQ1FMpS4mrOWEGQ8wlpSLkSks6lr",
          "timestamp": 1530066487081
        },
        {
          "file_id": "1BmfVWlMZmwiJvO0SJ6tx8tbgsYfaXyhf",
          "timestamp": 1530020545471
        },
        {
          "file_id": "1PBUMeWtdPmURESTfwQPzt8IjJGsrgxzq",
          "timestamp": 1529988132861
        },
        {
          "file_id": "1q5ty39Csy4hE5D-8FoijkiafGqHBHw-2",
          "timestamp": 1526851286755
        }
      ],
      "collapsed_sections": []
    },
    "kernelspec": {
      "display_name": "Python 3",
      "language": "python",
      "name": "python3"
    }
  },
  "cells": [
    {
      "metadata": {
        "id": "FA0fl6F8bWgl",
        "colab_type": "text"
      },
      "cell_type": "markdown",
      "source": [
        "## CCNSS 2018 Module 1: Neurons, synapses and networks\n",
        "# Tutorial 1: Wilson-Cowan equations\n",
        "[source](https://colab.research.google.com/drive/1BmfVWlMZmwiJvO0SJ6tx8tbgsYfaXyhf)\n",
        "\n",
        "Please execute the cell below to initalise the notebook environment."
      ]
    },
    {
      "metadata": {
        "id": "I3mWe1tibWgn",
        "colab_type": "code",
        "colab": {
          "autoexec": {
            "startup": false,
            "wait_interval": 0
          }
        }
      },
      "cell_type": "code",
      "source": [
        "%autosave 0\n",
        "\n",
        "import matplotlib.pyplot as plt    # import matplotlib\n",
        "import numpy as np                 # import numpy\n",
        "import random                      # import basic random number generator functions\n",
        "\n",
        "fig_w, fig_h = (6, 4)\n",
        "plt.rcParams.update({'figure.figsize': (fig_w, fig_h)})"
      ],
      "execution_count": 0,
      "outputs": []
    },
    {
      "metadata": {
        "id": "3ZsFEVzWbWgp",
        "colab_type": "text"
      },
      "cell_type": "markdown",
      "source": [
        "## Objectives\n",
        "In this notebook we will introduce the *Wilson-Cowan* rate model, and use it to learn more about phase planes, nullclines, and attractors.\n",
        "\n",
        "** Background paper:** \n",
        "* Wilson H and Cowan J (1972) Excitatory and inhibitory interactions in localized populations of model neurons. Biophysical Journal 12.\n"
      ]
    },
    {
      "metadata": {
        "id": "vrj-kuMQbWgq",
        "colab_type": "text"
      },
      "cell_type": "markdown",
      "source": [
        "## Background\n",
        "\n",
        "The Wilson-Cowan equations model the mean-field (i.e., average across the population) dynamics of two coupled populations of excitatory (E) and inhibitory (I) neurons:\n",
        "\n",
        "\\begin{align}\n",
        "&\\tau_E \\frac{dE}{dt} = -E + (1 - r E) F(w_{EE}E -w_{EI}I + I_{ext};a,\\theta)\\\\\n",
        "&\\tau_I \\frac{dI}{dt} = -I + (1 - r I) F(w_{IE}E -w_{II}I;a,\\theta)\n",
        "\\end{align}\n",
        "\n",
        "$E(t)$ represents the average activation of the excitatory population, and $I(t)$ the activation of the inhibitory population. The parameters $\\tau_E$ and $\\tau_I$ control the timescales of each population. The connection strengths are given by: $w_{EE}$ (E to E), $w_{EI}$ (I to E), $w_{IE}$ (E to I), and $w_{II}$ (I to I). Refractory effects are modelled through the parameter $r$, and $I_{ext}$ represents external input to the excitatory population. \n",
        "\n",
        "\n",
        "\n",
        "The function F describes the population activation function. We assume F to be a sigmoidal function, which is parameterized by its gain $a$ and threshold $\\theta$.\n",
        "\n",
        "$$ F(x;a,\\theta) = \\frac{1}{1+\\exp\\{-a(x-\\theta)\\}} - \\frac{1}{1+\\exp\\{a\\theta\\}}$$\n",
        "\n",
        "The argument $x$ represents the input to the population. Note that the the second term is chosen so that $F(0;a,\\theta)=0$.\n",
        "\n",
        "To start, execute the cell below to initialise the simulation parameters."
      ]
    },
    {
      "metadata": {
        "id": "IjzkBDOubWgr",
        "colab_type": "code",
        "colab": {
          "autoexec": {
            "startup": false,
            "wait_interval": 0
          }
        }
      },
      "cell_type": "code",
      "source": [
        "dt = 0.1\n",
        "\n",
        "# Connection weights\n",
        "wEE = 12\n",
        "wEI = 4\n",
        "wIE = 13\n",
        "wII = 11\n",
        "\n",
        "# Refractory parameter\n",
        "r = 1\n",
        "\n",
        "# External input\n",
        "I_ext = 0\n",
        "\n",
        "# Excitatory parameters\n",
        "tau_E = 1       # Timescale of excitatory population\n",
        "a_E = 1.2       # Gain of excitatory population\n",
        "theta_E = 2.8   # Threshold of excitatory population\n",
        "\n",
        "# Inhibitory parameters\n",
        "tau_I = 1       # Timescale of inhibitory population\n",
        "a_I = 1         # Gain of inhibitory population\n",
        "theta_I = 4     # Threshold of inhibitory population"
      ],
      "execution_count": 0,
      "outputs": []
    },
    {
      "metadata": {
        "id": "-bwsyFppbWgt",
        "colab_type": "text"
      },
      "cell_type": "markdown",
      "source": [
        "**EXERCISE 1** \n",
        "\n",
        "Fill in the function below to define the activation function F as a function of its input x, and arguments a, and $\\theta$. Verify your function by evaluating the excitatory activation function for $x = 0,3,6$. Then plot F for both E and I population parameters over $0 \\leq x \\leq 10$. "
      ]
    },
    {
      "metadata": {
        "id": "PHX2xrJFbWgu",
        "colab_type": "code",
        "colab": {
          "autoexec": {
            "startup": false,
            "wait_interval": 0
          },
          "base_uri": "https://localhost:8080/",
          "height": 330
        },
        "outputId": "ba1d78ed-842b-4035-c454-5ed95a35c64c",
        "executionInfo": {
          "status": "ok",
          "timestamp": 1530074727234,
          "user_tz": -480,
          "elapsed": 1015,
          "user": {
            "displayName": "Alex Cayco Gajic",
            "photoUrl": "https://lh3.googleusercontent.com/a/default-user=s128",
            "userId": "114299333997536305257"
          }
        }
      },
      "cell_type": "code",
      "source": [
        "def F(x,a,theta): \n",
        "    \"\"\"Population activation function.\n",
        "\n",
        "    Arguments:\n",
        "    x -- the population input\n",
        "    a -- the gain of the function\n",
        "    theta -- the threshold of the function\n",
        "    \n",
        "    Returns:\n",
        "    y -- the population activation response\n",
        "    \"\"\"\n",
        "    y = (1+np.exp(-a*(x-theta)))**-1 - (1+np.exp(a*theta))**-1\n",
        "    return y\n",
        "  \n",
        "for x in [0,3,6]:\n",
        "    print(F(x, a_E, theta_E))\n",
        "\n",
        "x = np.arange(0,10,.1)\n",
        "plt.figure()\n",
        "plt.plot(x,F(x,a_E,theta_E))\n",
        "plt.plot(x,F(x,a_I,theta_I))\n",
        "plt.xlabel('x')\n",
        "plt.ylabel('F(x)')\n",
        "plt.show()"
      ],
      "execution_count": 3,
      "outputs": [
        {
          "output_type": "stream",
          "text": [
            "0.0\n",
            "0.5261444259857104\n",
            "0.9453894296980492\n"
          ],
          "name": "stdout"
        },
        {
          "output_type": "display_data",
          "data": {
            "image/png": "[encoded data removed]",
            "text/plain": [
              "<matplotlib.figure.Figure at 0x7f9ea8333ba8>"
            ]
          },
          "metadata": {
            "tags": []
          }
        }
      ]
    },
    {
      "metadata": {
        "id": "M79NVeesQlaI",
        "colab_type": "text"
      },
      "cell_type": "markdown",
      "source": [
        "**EXPECTED OUTPUT**\n",
        "\n",
        "```\n",
        "0.0\n",
        "0.5261444259857104\n",
        "0.9453894296980492\n",
        "```\n",
        "![](https://github.com/ccnss/ccnss2018_students/raw/master/module1/figures/T1E1.png)"
      ]
    },
    {
      "metadata": {
        "id": "2yrNXJIybWgy",
        "colab_type": "text"
      },
      "cell_type": "markdown",
      "source": [
        "**Exercise 2:** Fill in the function below to simulate the dynamics of the Wilson-Cowan equation for  up to $t_{max}=15$ with steps of $dt$. Remember from the LIF tutorial that we can numerically integrate the ODEs by replacing the derivatives with their discretized approximations:\n",
        "\n",
        "\\begin{align}\n",
        "&\\frac{dE}{dt} \\to \\frac{E[k+\\Delta t]-E[k]}{\\Delta t} \\hspace{5 mm}\\text{ and }\\hspace{5mm}\\frac{dI}{dt} \\to \\frac{I[k+\\Delta t]-I[k]}{\\Delta t}\\\\\n",
        "\\end{align}\n",
        "\n",
        "Then simulate the dynamics of the population starting from initial condition $E_0=I_0=0.2$ and plot the results. What is the steady state solution? Then, also plot the dynamics starting from $E_0=I_0=0.25$ and plot the solution (in dashed lines). Now what is the steady state solution?"
      ]
    },
    {
      "metadata": {
        "id": "6rJxd_xobWgy",
        "colab_type": "code",
        "colab": {
          "autoexec": {
            "startup": false,
            "wait_interval": 0
          },
          "base_uri": "https://localhost:8080/",
          "height": 279
        },
        "outputId": "e0ef5d15-b16c-4301-f547-6c4130d47812",
        "executionInfo": {
          "status": "ok",
          "timestamp": 1530074732203,
          "user_tz": -480,
          "elapsed": 1166,
          "user": {
            "displayName": "Alex Cayco Gajic",
            "photoUrl": "https://lh3.googleusercontent.com/a/default-user=s128",
            "userId": "114299333997536305257"
          }
        }
      },
      "cell_type": "code",
      "source": [
        "def simulate_wc(t,E0,I0):\n",
        "    \"\"\"Simulate the Wilson-Cowan equations.\n",
        "   \n",
        "    Arguments:\n",
        "    t -- time (vector)\n",
        "    E0 -- initial condition of the excitatory population\n",
        "    I0 -- initial condition of the inhibitory population\n",
        "    \n",
        "    Returns:\n",
        "    E -- Activity of excitatory population (vector)\n",
        "    I -- Activity of inhibitory population (vector)\n",
        "    \"\"\"\n",
        "    dt = t[1]-t[0]\n",
        "    E = np.zeros(len(t))\n",
        "    I = np.zeros(len(t))\n",
        "    E[0] = E0\n",
        "    I[0] = I0\n",
        "    for k in range(len(t)-1):\n",
        "        E[k+1] = E[k] + dt/tau_E * (-E[k]+(1-r*E[k])*F(wEE*E[k]-wEI*I[k]+I_ext,a_E,theta_E))\n",
        "        I[k+1] = I[k] + dt/tau_I * (-I[k]+(1-r*I[k])*F(wIE*E[k]-wII*I[k],a_I,theta_I))\n",
        "    return E,I\n",
        "\n",
        "t = np.arange(0,15,dt)\n",
        "E,I = simulate_wc(t,.2,.2)\n",
        "plt.figure()\n",
        "plt.subplot(2,1,1)\n",
        "plt.plot(t,E)\n",
        "plt.plot(t,I)\n",
        "plt.xlabel('t')\n",
        "plt.ylabel('E(t), I(t)')\n",
        "plt.subplot(2,1,2)\n",
        "E,I = simulate_wc(t,.25,.25)\n",
        "plt.plot(t,E,'--')\n",
        "plt.plot(t,I,'--')\n",
        "plt.xlabel('t')\n",
        "plt.ylabel('E(t), I(t)')\n",
        "\n",
        "plt.show()"
      ],
      "execution_count": 4,
      "outputs": [
        {
          "output_type": "display_data",
          "data": {
            "image/png": "[encoded data removed]",
            "text/plain": [
              "<matplotlib.figure.Figure at 0x7f9ea7fdefd0>"
            ]
          },
          "metadata": {
            "tags": []
          }
        }
      ]
    },
    {
      "metadata": {
        "id": "UPcE4xdqVElr",
        "colab_type": "text"
      },
      "cell_type": "markdown",
      "source": [
        "**EXPECTED OUTPUT**\n",
        "\n",
        "![](https://github.com/ccnss/ccnss2018_students/raw/master/module1/figures/T1E2.png)"
      ]
    },
    {
      "metadata": {
        "id": "T4-eiSSCbWg1",
        "colab_type": "text"
      },
      "cell_type": "markdown",
      "source": [
        "**Exercise 3:** Now use the same function to simulate the Wilson Cowan equations for different initial conditions from $0.01 \\leq E_0 \\leq 1$ and $0.01 \\leq I_0 \\leq 1$ with stepsize 0.1. For each initial condition, find the steady state value to which $E$ and $I$ converge. There are several ways to do this. A simple way to do this is to check, for each initial condition, that the last two points in the simulation are within 1% of each other:\n",
        "\n",
        "$$ \\frac{E(t_{max})-E(t_{max}-dt)}{E(t_{max})} \\leq 0.01 $$\n",
        "\n",
        "Execute the cell below to define the function ``has_it_converged()``, which raises an error when trajectories have not converged:\n",
        "\n",
        "``raise ValueError('Has not converged.')``"
      ]
    },
    {
      "metadata": {
        "id": "gBlrirjljipC",
        "colab_type": "code",
        "colab": {
          "autoexec": {
            "startup": false,
            "wait_interval": 0
          }
        }
      },
      "cell_type": "code",
      "source": [
        "def has_it_converged(E):\n",
        "    if np.abs(E[-1]-E[-2])/E[-1] > .01:\n",
        "        raise ValueError('Has not converged.')"
      ],
      "execution_count": 0,
      "outputs": []
    },
    {
      "metadata": {
        "id": "aG9ktcQDkJRD",
        "colab_type": "text"
      },
      "cell_type": "markdown",
      "source": [
        "Now plot the steady state values, i.e., the last values in the trajectory (plot $E$ vs. $I$). Use the function ``has_it_converged()`` to check whether the solution has reached steady state. If there is an error, increase $t_{max}$ until there is no error.  What fixed points do you see?"
      ]
    },
    {
      "metadata": {
        "id": "WT8ZhrW5eDYU",
        "colab_type": "code",
        "colab": {
          "autoexec": {
            "startup": false,
            "wait_interval": 0
          }
        }
      },
      "cell_type": "code",
      "source": [
        "# insert your code here"
      ],
      "execution_count": 0,
      "outputs": []
    },
    {
      "metadata": {
        "id": "7xeKqybCatOT",
        "colab_type": "text"
      },
      "cell_type": "markdown",
      "source": [
        "**EXPECTED OUTPUT**\n",
        "\n",
        "![](https://github.com/ccnss/ccnss2018_students/raw/master/module1/figures/T1E3.png)"
      ]
    },
    {
      "metadata": {
        "id": "cyBRI2i6LaZQ",
        "colab_type": "text"
      },
      "cell_type": "markdown",
      "source": [
        "**Exercise 4**: To make the phase plane plot, we first need to determine the inverse of F. Enter the cell below to define $F^{-1}(x;a,\\theta)$,"
      ]
    },
    {
      "metadata": {
        "id": "AjDaPLvyLaZN",
        "colab_type": "code",
        "colab": {
          "autoexec": {
            "startup": false,
            "wait_interval": 0
          }
        }
      },
      "cell_type": "code",
      "source": [
        "def F_inv(x,a,theta): \n",
        "    \"\"\"Define the inverse of the population activation function.\n",
        "\n",
        "    Arguments:\n",
        "    x -- the population input\n",
        "    a -- the gain of the function\n",
        "    theta -- the threshold of the function\n",
        "    \n",
        "    Returns:\n",
        "    y -- value of the inverse function\n",
        "    \"\"\"\n",
        "    y = -1/a * np.log((x+(1+np.exp(a*theta))**-1)**-1 -1) + theta\n",
        "    \n",
        "    return y"
      ],
      "execution_count": 0,
      "outputs": []
    },
    {
      "metadata": {
        "id": "8mdRKNFuLaZL",
        "colab_type": "text"
      },
      "cell_type": "markdown",
      "source": [
        "Now check that this is the correct inverse function by testing $F^{-1}(x;a,\\theta)$ for $x=0,0.5,0.9$, and then plotting x against $F^{-1}(F(x))$ for $0\\leq x\\leq1$ (use the excitatory population parameters).\n",
        "\n"
      ]
    },
    {
      "metadata": {
        "id": "UQEy-yxYLaZJ",
        "colab_type": "code",
        "colab": {
          "autoexec": {
            "startup": false,
            "wait_interval": 0
          }
        }
      },
      "cell_type": "code",
      "source": [
        "# insert your code here"
      ],
      "execution_count": 0,
      "outputs": []
    },
    {
      "metadata": {
        "id": "TPyS7kl-LaZH",
        "colab_type": "text"
      },
      "cell_type": "markdown",
      "source": [
        "**EXPECTED OUTPUT**\n",
        "\n",
        "```\n",
        "0.0\n",
        "2.9120659956266\n",
        "5.002378884081663\n",
        "```\n",
        "![](https://github.com/ccnss/ccnss2018_students/raw/master/module1/figures/T1E4.png)\n",
        "\n"
      ]
    },
    {
      "metadata": {
        "id": "-bDxglnPZlNx",
        "colab_type": "text"
      },
      "cell_type": "markdown",
      "source": [
        "**Exercise 5:** Now, derive the E and I nullclines, in terms of the inverse function $F^{-1}$. To do this, set $\\frac{dE}{dt}=0$ and solve for $I$, then set $\\frac{dI}{dt}=0$ and solve for $E$. Then, fill out the two functions below to calculate the I nullcline (over $-0.01 \\leq I \\leq 0.3$) and E nullcline (over $-0.01 \\leq E \\leq 0.48$). First test the value of the I nullcline for $I=0.1$, then test the E nullcline for $E=0.1$. Then use these functions to plot the nullclines in phase space (E vs. I). What fixed points do you see? Compare the intersections of the nullclines with the steady state values you observed numerically in Exercise 3.\n"
      ]
    },
    {
      "metadata": {
        "id": "7Ook9IhAZlNt",
        "colab_type": "code",
        "colab": {
          "autoexec": {
            "startup": false,
            "wait_interval": 0
          }
        }
      },
      "cell_type": "code",
      "source": [
        "def get_E_nullcline(E):\n",
        "    \"\"\"Solve for I along the E nullcline (dE/dt = 0).\n",
        "   \n",
        "    Arguments:\n",
        "    E -- values of E over which the nullcline is computed\n",
        "    \n",
        "    Returns:\n",
        "    I -- values of I along the nullcline for each E\n",
        "    \"\"\"\n",
        "    # insert your code here\n",
        "    \n",
        "    return I\n",
        "  \n",
        "  \n",
        "def get_I_nullcline(I):\n",
        "    \"\"\"Solve for E along the I nullcline (dI/dt = 0).\n",
        "   \n",
        "    Arguments:\n",
        "    I -- values of I over which the nullcline is computed\n",
        "    \n",
        "    Returns:\n",
        "    E -- values of E along the nullcline for each I\n",
        "    \"\"\"\n",
        "    # insert your code here\n",
        "    \n",
        "    return E\n",
        "\n",
        "# insert your code here"
      ],
      "execution_count": 0,
      "outputs": []
    },
    {
      "metadata": {
        "id": "siAKbi-zZlNr",
        "colab_type": "text"
      },
      "cell_type": "markdown",
      "source": [
        "**EXPECTED OUTPUT**\n",
        "```\n",
        "0.24546433162390224\n",
        "-0.029802383619274175\n",
        "```\n",
        "\n",
        "![](https://github.com/ccnss/ccnss2018_students/raw/master/module1/figures/T1E5.png)"
      ]
    },
    {
      "metadata": {
        "id": "8Ar2VDVHZlNp",
        "colab_type": "text"
      },
      "cell_type": "markdown",
      "source": [
        "**Exercise 6:** Now, on top of the nullclines, use two nested for loops to plot some sample trajectories starting with different initial conditions, for $E_0 = 0,0.2,0.4,0.8,1$ and $I_0 = 0,0.2,0.4,0.8,1$. How many attractors do you see?"
      ]
    },
    {
      "metadata": {
        "id": "ZL0Ru1RjZlNi",
        "colab_type": "code",
        "colab": {
          "autoexec": {
            "startup": false,
            "wait_interval": 0
          }
        }
      },
      "cell_type": "code",
      "source": [
        "# insert your code here"
      ],
      "execution_count": 0,
      "outputs": []
    },
    {
      "metadata": {
        "id": "SldQI02aZlNf",
        "colab_type": "text"
      },
      "cell_type": "markdown",
      "source": [
        "**EXPECTED OUTPUT**\n",
        "\n",
        "![](https://github.com/ccnss/ccnss2018_students/raw/master/module1/figures/T1E6.png)"
      ]
    },
    {
      "metadata": {
        "id": "8BOYtSM_ZlNb",
        "colab_type": "text"
      },
      "cell_type": "markdown",
      "source": [
        "**Exercise 7:** Repeat the previous exercise for the following values of the recurrent excitatory connection strength: $w_{EE}=5,10,12,15$. What is happening? This is an example of a bifurcation. What does this tell you about how increasing recurrent connectivity affects the dynamics? \n",
        "\n",
        "\n"
      ]
    },
    {
      "metadata": {
        "id": "HSQHvh9IZlNR",
        "colab_type": "code",
        "colab": {
          "autoexec": {
            "startup": false,
            "wait_interval": 0
          }
        }
      },
      "cell_type": "code",
      "source": [
        "# insert your code here"
      ],
      "execution_count": 0,
      "outputs": []
    },
    {
      "metadata": {
        "id": "lzZlpmlvZlNJ",
        "colab_type": "text"
      },
      "cell_type": "markdown",
      "source": [
        "**EXPECTED OUTPUT**\n",
        "\n",
        "![](https://github.com/ccnss/ccnss2018_students/raw/master/module1/figures/T1E7a.png)\n",
        "![](https://github.com/ccnss/ccnss2018_students/raw/master/module1/figures/T1E7b.png)\n",
        "![](https://github.com/ccnss/ccnss2018_students/raw/master/module1/figures/T1E7c.png)\n",
        "![](https://github.com/ccnss/ccnss2018_students/raw/master/module1/figures/T1E7d.png)"
      ]
    }
  ]
}