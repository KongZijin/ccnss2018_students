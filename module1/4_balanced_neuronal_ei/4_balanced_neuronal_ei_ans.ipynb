{
  "nbformat": 4,
  "nbformat_minor": 0,
  "metadata": {
    "colab": {
      "name": "4_balanced_neuronal_ei_ans.ipynb",
      "version": "0.3.2",
      "views": {},
      "default_view": {},
      "provenance": [
        {
          "file_id": "1QfnAXTOYLZUOCOhifLhvpAOKKSyBSHal",
          "timestamp": 1526851249365
        }
      ],
      "collapsed_sections": []
    },
    "kernelspec": {
      "display_name": "Python 3",
      "language": "python",
      "name": "python3"
    }
  },
  "cells": [
    {
      "metadata": {
        "id": "o8xBP0yQbQsS",
        "colab_type": "text"
      },
      "cell_type": "markdown",
      "source": [
        "## CCNSS 2018 Module 1: Neurons, synapses and networks\n",
        "# Tutorial 4: Balanced neuronal excitation and inhibition\n",
        "[source](https://colab.research.google.com/drive/1I4b01XubbttyGW1nahCEBM-Yl0K98QrV)\n",
        "\n",
        "Please execute the cell below to initialise the notebook environment."
      ]
    },
    {
      "metadata": {
        "id": "nNRrXFODbQsT",
        "colab_type": "code",
        "colab": {
          "autoexec": {
            "startup": false,
            "wait_interval": 0
          },
          "base_uri": "https://localhost:8080/",
          "height": 34
        },
        "outputId": "44a3d762-afc0-42bb-e517-485e335d576b",
        "executionInfo": {
          "status": "ok",
          "timestamp": 1530254896813,
          "user_tz": -480,
          "elapsed": 1121,
          "user": {
            "displayName": "Alex Cayco Gajic",
            "photoUrl": "https://lh3.googleusercontent.com/a/default-user=s128",
            "userId": "114299333997536305257"
          }
        }
      },
      "cell_type": "code",
      "source": [
        "%autosave 0\n",
        "\n",
        "import matplotlib.pyplot as plt    # import matplotlib\n",
        "import numpy as np                 # import numpy\n",
        "import random                      # import basic random number generator functions\n",
        "\n",
        "fig_w, fig_h = (6, 4)\n",
        "plt.rcParams.update({'figure.figsize': (fig_w, fig_h)})"
      ],
      "execution_count": 1,
      "outputs": [
        {
          "output_type": "display_data",
          "data": {
            "application/javascript": [
              "IPython.notebook.set_autosave_interval(0)"
            ]
          },
          "metadata": {
            "tags": []
          }
        },
        {
          "output_type": "stream",
          "text": [
            "Autosave disabled\n"
          ],
          "name": "stdout"
        }
      ]
    },
    {
      "metadata": {
        "id": "b4dzHuN5bQsX",
        "colab_type": "text"
      },
      "cell_type": "markdown",
      "source": [
        "\n",
        "## Objectives\n",
        "\n",
        "In this tutorial, we will build on the conductance-based model in Tutorial 4 to study E/I balance and fluctuation-drive spiking in a conductance based neuron.\n",
        "\n",
        "**Background paper:**\n",
        "\n",
        "* Song S, Miller K and Abott L (2000) Competitive Hebbian learning through spike-timing-dependent synaptic plasticity. Nature Neurosci 3.\n",
        "\n",
        "**Extra reading:**\n",
        "\n",
        "* Softy W and Koch C (1993) The highly irregular firing of cortical cells is inconsistent with temporal integration of random EPSPs. J Neurosci 13.\n",
        "\n",
        "* Okun M and Lampl I (2009) Balance of excitation and inhibition. Scholarpedia: http://www.scholarpedia.org/article/Balance_of_excitation_and_inhibition"
      ]
    },
    {
      "metadata": {
        "id": "f6lEqWHZbQsX",
        "colab_type": "text"
      },
      "cell_type": "markdown",
      "source": [
        "## Background\n"
      ]
    },
    {
      "metadata": {
        "id": "_r5cnBUTi864",
        "colab_type": "code",
        "colab": {
          "autoexec": {
            "startup": false,
            "wait_interval": 0
          },
          "base_uri": "https://localhost:8080/",
          "height": 17
        },
        "outputId": "59ee5ad3-a8ee-4bf4-f4a4-9ac91d4c255e",
        "executionInfo": {
          "status": "ok",
          "timestamp": 1530254910014,
          "user_tz": -480,
          "elapsed": 900,
          "user": {
            "displayName": "Alex Cayco Gajic",
            "photoUrl": "https://lh3.googleusercontent.com/a/default-user=s128",
            "userId": "114299333997536305257"
          }
        }
      },
      "cell_type": "code",
      "source": [
        "t_max = 500e-3   # second\n",
        "dt = 1e-3        # second\n",
        "tau = 20e-3      # second\n",
        "el = -60e-3      # volt\n",
        "e_ex = 0         # volt\n",
        "e_in = -70e-3    # volt\n",
        "vr = -70e-3      # volt\n",
        "vth = -50e-3     # volt\n",
        "tau_syn = 5e-3   # second "
      ],
      "execution_count": 2,
      "outputs": []
    },
    {
      "metadata": {
        "id": "NZnx3TUGbQsX",
        "colab_type": "text"
      },
      "cell_type": "markdown",
      "source": [
        "**Exercise 1:** Fill in in the following functions to generate Poisson spikes and simulate a postsynaptic neuron with both excitatory and inhibitoy conductances (no plasticity). Use the code you wrote in Tutorial 3 and build it up to incorporate inhibition, by adding an inhibitory conductance:\n",
        "\n",
        "\n",
        "\\begin{align}\n",
        "&\\tau_m\\,\\frac{dV}{dt}\\ = E_{L} - V(t) + g_{ex}(t)(E_{ex}-V(t))+ g_{in}(t)(E_{in}-V(t)) &\\text{if }\\quad V(t) \\leq V_{th}\\\\\n",
        "&V(t) = V_{r} &\\text{otherwise}\\\\\n",
        "\\end{align}\n",
        "\n",
        "Also modify the code to return the spike times of the postsynpatic neuron. Then, simulate a postsynaptic neuron with 800 excitatory inputs and 200 inhibitory inputs at 10 Hz for 500 ms, with peak conductances of $\\bar g_{max,ex} = \\bar g_{max,in} = 6*10^{-3}$.\n"
      ]
    },
    {
      "metadata": {
        "id": "ZVpYdfU8tI14",
        "colab_type": "code",
        "colab": {
          "autoexec": {
            "startup": false,
            "wait_interval": 0
          },
          "base_uri": "https://localhost:8080/",
          "height": 17
        },
        "outputId": "d104c421-c4d4-425f-bcd2-dea84ff67b0a",
        "executionInfo": {
          "status": "ok",
          "timestamp": 1530254914079,
          "user_tz": -480,
          "elapsed": 1012,
          "user": {
            "displayName": "Alex Cayco Gajic",
            "photoUrl": "https://lh3.googleusercontent.com/a/default-user=s128",
            "userId": "114299333997536305257"
          }
        }
      },
      "cell_type": "code",
      "source": [
        "random.seed(0)\n",
        "\n",
        "def generate_Poisson_spikes(t,rate,n):\n",
        "  \"\"\" Generates poisson spike trains\n",
        "  \n",
        "  Arguments:\n",
        "  t -- time\n",
        "  rate -- firing rate (Hz)\n",
        "  n -- number of spike trains\n",
        "  \n",
        "  Returns:\n",
        "  pre_spike_train -- spike train matrix, ith row represents whether \n",
        "                     there is a spike in ith spike train over time\n",
        "                     (1 if spike, 0 otherwise)\n",
        "  \"\"\"\n",
        "  # insert your code here\n",
        "  return pre_spike_train\n",
        "\n",
        "def simulate_postsynaptic_neuron(t,pre_spike_train_ex,pre_spike_train_in):\n",
        "    \"\"\" Simulate nonplastic postsynaptic neuron\n",
        "  \n",
        "    Arguments:\n",
        "    t -- time\n",
        "    pre_spike_train_ex -- excitatory presynaptic spike train matrix, same length as t\n",
        "    pre_spike_train_in -- inhibitory presynaptic spike train matrix, same length as t\n",
        "  \n",
        "    Returns:\n",
        "    v -- membrane potential\n",
        "    spike_times -- list of postsynaptic spike times\n",
        "    \"\"\"\n",
        "    # insert your code here\n",
        "    return v,spike_times\n",
        "\n",
        "# insert your code here"
      ],
      "execution_count": 3,
      "outputs": []
    },
    {
      "metadata": {
        "id": "qZ6jVUEmbQsY",
        "colab_type": "code",
        "colab": {
          "autoexec": {
            "startup": false,
            "wait_interval": 0
          },
          "base_uri": "https://localhost:8080/",
          "height": 34
        },
        "outputId": "ee8a2991-ec29-489f-dc34-c7742d29046d",
        "executionInfo": {
          "status": "ok",
          "timestamp": 1530254918472,
          "user_tz": -480,
          "elapsed": 873,
          "user": {
            "displayName": "Alex Cayco Gajic",
            "photoUrl": "https://lh3.googleusercontent.com/a/default-user=s128",
            "userId": "114299333997536305257"
          }
        }
      },
      "cell_type": "code",
      "source": [
        "random.seed(0)\n",
        "\n",
        "def generate_Poisson_spikes(t,rate,n):\n",
        "  \"\"\" Generates poisson spike trains\n",
        "  \n",
        "  Arguments:\n",
        "  t -- time\n",
        "  rate -- firing rate (Hz)\n",
        "  n -- number of spike trains\n",
        "  \n",
        "  Returns:\n",
        "  pre_spike_train -- spike train matrix, ith row represents whether \n",
        "                     there is a spike in ith spike train over time\n",
        "                     (1 if spike, 0 otherwise)\n",
        "  \"\"\"\n",
        "  pre_spike_train = np.zeros((n,len(t)), dtype=np.int)\n",
        "  for k in range(n):\n",
        "    for j in range(len(t)):\n",
        "      if random.random() < rate * dt:\n",
        "        pre_spike_train[k,j] = 1\n",
        "  return pre_spike_train\n",
        "\n",
        "def simulate_postsynaptic_neuron(t,pre_spike_train_ex,pre_spike_train_in):\n",
        "    \"\"\" Simulate nonplastic postsynaptic neuron\n",
        "  \n",
        "    Arguments:\n",
        "    t -- time\n",
        "    pre_spike_train_ex -- excitatory presynaptic spike train matrix, same length as t\n",
        "    pre_spike_train_in -- inhibitory presynaptic spike train matrix, same length as t\n",
        "  \n",
        "    Returns:\n",
        "    v -- membrane potential\n",
        "    spike_times -- list of postsynaptic spike times\n",
        "    \"\"\"\n",
        "    n_ex = pre_spike_train_ex.shape[0]\n",
        "    n_in = pre_spike_train_in.shape[0]\n",
        "    spike_times = []\n",
        "    v = np.zeros(len(t))\n",
        "    g_ex = np.zeros(len(t))\n",
        "    g_in = np.zeros(len(t))\n",
        "    v[0] = el\n",
        "    for j in range(len(t)-1):\n",
        "        v[j+1] = v[j] + dt / tau * (el - v[j] + g_ex[j]*(e_ex-v[j]) + g_in[j]*(e_in-v[j]))\n",
        "        g_ex[j+1] = g_ex[j] - dt / tau_syn * g_ex[j]\n",
        "        g_in[j+1] = g_in[j] - dt / tau_syn * g_in[j]\n",
        "        for k in range(n_ex):\n",
        "          if pre_spike_train_ex[k,j] == 1:\n",
        "            g_ex[j+1] = g_ex[j+1]+gbar_max_ex\n",
        "        for k in range(n_in):\n",
        "          if pre_spike_train_in[k,j] == 1:\n",
        "            g_in[j+1] = g_in[j+1]+gbar_max_in\n",
        "        if v[j] >= vth:\n",
        "            v[j+1] = vr\n",
        "            spike_times.append(t[j])\n",
        "    return v,spike_times\n",
        "  \n",
        "n_ex = 800; n_in = 200; rate = 10\n",
        "gbar_max_ex = 6.5e-3\n",
        "gbar_max_in = gbar_max_ex\n",
        "\n",
        "t = np.arange(0,t_max,dt)\n",
        "\n",
        "pre_spike_train_ex = generate_Poisson_spikes(t,rate,n_ex)\n",
        "pre_spike_train_in = generate_Poisson_spikes(t,rate,n_in)\n",
        "v,spike_times = simulate_postsynaptic_neuron(t,pre_spike_train_ex,pre_spike_train_in)\n",
        "\n",
        "print((len(spike_times))/t_max)\n"
      ],
      "execution_count": 4,
      "outputs": [
        {
          "output_type": "stream",
          "text": [
            "24.0\n"
          ],
          "name": "stdout"
        }
      ]
    },
    {
      "metadata": {
        "id": "pm5uwDJEtAMx",
        "colab_type": "text"
      },
      "cell_type": "markdown",
      "source": [
        "**EXPECTED OUTPUT**\n",
        "```\n",
        "24.0\n",
        "```"
      ]
    },
    {
      "metadata": {
        "id": "x0aTAHYNbQsd",
        "colab_type": "text"
      },
      "cell_type": "markdown",
      "source": [
        "**Exercise 2:** Repeat this over 10 trials and make a raster plot showing the spike times for each trial. Calculate the average firing rate over all the trials."
      ]
    },
    {
      "metadata": {
        "id": "4BmNNmxyt--T",
        "colab_type": "code",
        "colab": {
          "autoexec": {
            "startup": false,
            "wait_interval": 0
          },
          "base_uri": "https://localhost:8080/",
          "height": 17
        },
        "outputId": "e55fa4f4-84ca-4851-9064-b15ee17cb3c1",
        "executionInfo": {
          "status": "ok",
          "timestamp": 1530069885792,
          "user_tz": -480,
          "elapsed": 605,
          "user": {
            "displayName": "Marco Brigham",
            "photoUrl": "https://lh3.googleusercontent.com/a/default-user=s128",
            "userId": "107314306240247005641"
          }
        }
      },
      "cell_type": "code",
      "source": [
        "random.seed(0)\n",
        "\n",
        "# insert your code here"
      ],
      "execution_count": 6,
      "outputs": []
    },
    {
      "metadata": {
        "id": "JVlu_fR75Pp7",
        "colab_type": "code",
        "colab": {
          "autoexec": {
            "startup": false,
            "wait_interval": 0
          },
          "base_uri": "https://localhost:8080/",
          "height": 296
        },
        "outputId": "0e2b1797-5fe6-437c-955d-a5bc9e19827c",
        "executionInfo": {
          "status": "ok",
          "timestamp": 1530254926041,
          "user_tz": -480,
          "elapsed": 3571,
          "user": {
            "displayName": "Alex Cayco Gajic",
            "photoUrl": "https://lh3.googleusercontent.com/a/default-user=s128",
            "userId": "114299333997536305257"
          }
        }
      },
      "cell_type": "code",
      "source": [
        "random.seed(0)\n",
        "\n",
        "plt.figure()\n",
        "\n",
        "avg_spike_rate = 0\n",
        "for k in range(10):\n",
        "  pre_spike_train_ex = generate_Poisson_spikes(t,rate,n_ex)\n",
        "  pre_spike_train_in = generate_Poisson_spikes(t,rate,n_in)\n",
        "  v,spike_times = simulate_postsynaptic_neuron(t,pre_spike_train_ex,pre_spike_train_in)\n",
        "  for spk in range(len(spike_times)):\n",
        "    plt.plot(spike_times[spk],k,'C0o')\n",
        "  avg_spike_rate = avg_spike_rate + len(spike_times)/t_max\n",
        "\n",
        "avg_spike_rate = avg_spike_rate/10.\n",
        "print(avg_spike_rate)\n",
        "plt.xlabel('time (s)')\n",
        "plt.ylabel('trial number')\n",
        "plt.show()\n"
      ],
      "execution_count": 5,
      "outputs": [
        {
          "output_type": "stream",
          "text": [
            "22.6\n"
          ],
          "name": "stdout"
        },
        {
          "output_type": "display_data",
          "data": {
            "image/png": "[encoded data removed]",
            "text/plain": [
              "<matplotlib.figure.Figure at 0x7fe6b82d9cc0>"
            ]
          },
          "metadata": {
            "tags": []
          }
        }
      ]
    },
    {
      "metadata": {
        "id": "J_PWUIdbtY9R",
        "colab_type": "text"
      },
      "cell_type": "markdown",
      "source": [
        "**EXPECTED OUTPUT**\n",
        "```\n",
        "22.6\n",
        "```\n",
        "\n",
        "![](https://github.com/ccnss/ccnss2018_students/raw/master/module1/figures/T4E2.png)"
      ]
    },
    {
      "metadata": {
        "id": "BzdDX2j-4uRF",
        "colab_type": "text"
      },
      "cell_type": "markdown",
      "source": [
        "**Exercise 3:** Now increase the peak inhibitory conductance to  $\\bar g_{max,ex} = 8*\\bar g_{max,in}$. To maintain a similar firing rate, you should also increase the peak excitatory conductance: $\\bar g_{max,ex} = 17*10^{-3}$. How are the raster plots different? Which one is more regular?"
      ]
    },
    {
      "metadata": {
        "id": "9WeR1P12ufoR",
        "colab_type": "code",
        "colab": {
          "autoexec": {
            "startup": false,
            "wait_interval": 0
          },
          "base_uri": "https://localhost:8080/",
          "height": 17
        },
        "outputId": "8b782986-9c23-4d14-d7d3-cbca199d63d6",
        "executionInfo": {
          "status": "ok",
          "timestamp": 1530069888900,
          "user_tz": -480,
          "elapsed": 702,
          "user": {
            "displayName": "Marco Brigham",
            "photoUrl": "https://lh3.googleusercontent.com/a/default-user=s128",
            "userId": "107314306240247005641"
          }
        }
      },
      "cell_type": "code",
      "source": [
        "random.seed(0)\n",
        "\n",
        "# insert your code here"
      ],
      "execution_count": 8,
      "outputs": []
    },
    {
      "metadata": {
        "id": "787Lm9S-bQse",
        "colab_type": "code",
        "colab": {
          "autoexec": {
            "startup": false,
            "wait_interval": 0
          },
          "base_uri": "https://localhost:8080/",
          "height": 296
        },
        "outputId": "c0b38301-cffb-4c1d-a692-32325dbb56d3",
        "executionInfo": {
          "status": "ok",
          "timestamp": 1530254933600,
          "user_tz": -480,
          "elapsed": 4140,
          "user": {
            "displayName": "Alex Cayco Gajic",
            "photoUrl": "https://lh3.googleusercontent.com/a/default-user=s128",
            "userId": "114299333997536305257"
          }
        }
      },
      "cell_type": "code",
      "source": [
        "random.seed(0)\n",
        "\n",
        "plt.figure()\n",
        "\n",
        "gbar_max_ex = 17e-3\n",
        "gbar_max_in = gbar_max_ex * 8\n",
        "\n",
        "avg_spike_rate = 0\n",
        "for k in range(10):\n",
        "  pre_spike_train_ex = generate_Poisson_spikes(t,rate,n_ex)\n",
        "  pre_spike_train_in = generate_Poisson_spikes(t,rate,n_in)\n",
        "  v,spike_times = simulate_postsynaptic_neuron(t,pre_spike_train_ex,pre_spike_train_in)\n",
        "  for spk in range(len(spike_times)):\n",
        "    plt.plot(spike_times[spk],k,'C0o')\n",
        "  avg_spike_rate = avg_spike_rate + len(spike_times)/t_max\n",
        "avg_spike_rate = avg_spike_rate/10.\n",
        "plt.xlabel('time (s)')\n",
        "plt.ylabel('trial number')\n",
        "plt.show()\n",
        "print(avg_spike_rate)"
      ],
      "execution_count": 6,
      "outputs": [
        {
          "output_type": "stream",
          "text": [
            "22.2\n"
          ],
          "name": "stdout"
        },
        {
          "output_type": "display_data",
          "data": {
            "image/png": "[encoded data removed]",
            "text/plain": [
              "<matplotlib.figure.Figure at 0x7fe6a589dda0>"
            ]
          },
          "metadata": {
            "tags": []
          }
        }
      ]
    },
    {
      "metadata": {
        "id": "gP-J98w3upCd",
        "colab_type": "text"
      },
      "cell_type": "markdown",
      "source": [
        "**EXPECTED OUTPUT**\n",
        "```\n",
        "22.2\n",
        "```\n",
        "\n",
        "![](https://github.com/ccnss/ccnss2018_students/raw/master/module1/figures/T4E3.png)"
      ]
    },
    {
      "metadata": {
        "id": "aATxxlkobQsi",
        "colab_type": "text"
      },
      "cell_type": "markdown",
      "source": [
        "**Exercise 4:** To see what's happening, simulate one example with the excitatory and inhibitory conductances from Exercise 1-2, and one example with the conductances from Exercise 3. Use exactly the same presynaptic spike train for each simulation. Plot the membrane potential for each case. How does this difference in $\\bar g_{max,ex}$ and $\\bar g_{max,in}$ change the subthreshold dynamics? How does this explain the difference in the postsynaptic spike trains?"
      ]
    },
    {
      "metadata": {
        "id": "wSeqJZFMvfjQ",
        "colab_type": "code",
        "colab": {
          "autoexec": {
            "startup": false,
            "wait_interval": 0
          },
          "base_uri": "https://localhost:8080/",
          "height": 17
        },
        "outputId": "6c9e7ec6-c394-439b-e1b2-56664d31cd9f",
        "executionInfo": {
          "status": "ok",
          "timestamp": 1530069892907,
          "user_tz": -480,
          "elapsed": 1271,
          "user": {
            "displayName": "Marco Brigham",
            "photoUrl": "https://lh3.googleusercontent.com/a/default-user=s128",
            "userId": "107314306240247005641"
          }
        }
      },
      "cell_type": "code",
      "source": [
        "random.seed(0)\n",
        "\n",
        "# insert your code here"
      ],
      "execution_count": 10,
      "outputs": []
    },
    {
      "metadata": {
        "id": "7ERNo8zqbQsi",
        "colab_type": "code",
        "colab": {
          "autoexec": {
            "startup": false,
            "wait_interval": 0
          },
          "base_uri": "https://localhost:8080/",
          "height": 279
        },
        "outputId": "cbe084bf-9aa9-4f4c-a46c-a1bacb62ff88",
        "executionInfo": {
          "status": "ok",
          "timestamp": 1530254937594,
          "user_tz": -480,
          "elapsed": 1726,
          "user": {
            "displayName": "Alex Cayco Gajic",
            "photoUrl": "https://lh3.googleusercontent.com/a/default-user=s128",
            "userId": "114299333997536305257"
          }
        }
      },
      "cell_type": "code",
      "source": [
        "random.seed(0)\n",
        "\n",
        "plt.figure()\n",
        "\n",
        "gbar_max_ex = 6.5e-3\n",
        "gbar_max_in = gbar_max_ex\n",
        "\n",
        "pre_spike_train_ex = generate_Poisson_spikes(t,rate,n_ex)\n",
        "pre_spike_train_in = generate_Poisson_spikes(t,rate,n_in)\n",
        "v,spike_times = simulate_postsynaptic_neuron(t,pre_spike_train_ex,pre_spike_train_in)\n",
        "plt.subplot(2,1,1); plt.plot(t,v)\n",
        "plt.ylabel('V(t) (unbalanced)');\n",
        "\n",
        "gbar_max_ex = 17e-3\n",
        "gbar_max_in = gbar_max_ex * 8\n",
        "\n",
        "v,spike_times = simulate_postsynaptic_neuron(t,pre_spike_train_ex,pre_spike_train_in)\n",
        "plt.subplot(2,1,2); plt.plot(t,v)\n",
        "plt.xlabel('t (s)');\n",
        "plt.ylabel('V(t) (balanced)');\n",
        "plt.show()"
      ],
      "execution_count": 7,
      "outputs": [
        {
          "output_type": "display_data",
          "data": {
            "image/png": "[encoded data removed]",
            "text/plain": [
              "<matplotlib.figure.Figure at 0x7fe6a589dc50>"
            ]
          },
          "metadata": {
            "tags": []
          }
        }
      ]
    },
    {
      "metadata": {
        "id": "KI13EmzhwCRE",
        "colab_type": "text"
      },
      "cell_type": "markdown",
      "source": [
        "**EXPECTED OUTPUT**\n",
        "\n",
        "![](https://github.com/ccnss/ccnss2018_students/raw/master/module1/figures/T4E4.png)"
      ]
    },
    {
      "metadata": {
        "id": "--sGlBTubQsl",
        "colab_type": "text"
      },
      "cell_type": "markdown",
      "source": [
        "**Exercise 5:**  By increasing the inhibitory strengths relative to the excitatory strength, the postsynaptic neuron enters an irregular spiking regime in which spikes are drive by fluctuations in the input, rather than the mean input. This is called E/I balance. To quantify the irregularity of spiking, calculate the coefficient of variation (CV) of the inter-spike intervals. The CV is defined as the ratio of the standard deviation to the mean:\n",
        "$$ CV = \\frac{\\sigma_{ISI}}{\\mu_{ISI}}$$\n",
        "Fill in the following function to get the CV. Test it by calculating the CV for both the balanced and unbalanced neurons (increase $t_{max}$ to 5 s). Note that for a poisson process, the CV is 1."
      ]
    },
    {
      "metadata": {
        "id": "aGXA__1BrbZj",
        "colab_type": "code",
        "colab": {
          "autoexec": {
            "startup": false,
            "wait_interval": 0
          },
          "base_uri": "https://localhost:8080/",
          "height": 17
        },
        "outputId": "d9b623b4-849e-4bf0-f125-ffab9732ae55",
        "executionInfo": {
          "status": "ok",
          "timestamp": 1530069895422,
          "user_tz": -480,
          "elapsed": 969,
          "user": {
            "displayName": "Marco Brigham",
            "photoUrl": "https://lh3.googleusercontent.com/a/default-user=s128",
            "userId": "107314306240247005641"
          }
        }
      },
      "cell_type": "code",
      "source": [
        "random.seed(0)\n",
        "\n",
        "\n",
        "def get_CV(spike_times):\n",
        "  \"\"\"Calculate the coefficient of variation\n",
        "  \n",
        "  Arguments:\n",
        "  spike_times -- list of spike times\n",
        "  \n",
        "  Returns:\n",
        "  CV -- coefficient of variation for the spike times\n",
        "  \"\"\"\n",
        "  # insert your code here\n",
        "  return CV\n",
        "\n",
        "# insert your code here"
      ],
      "execution_count": 12,
      "outputs": []
    },
    {
      "metadata": {
        "id": "yeJWUxC8bQsn",
        "colab_type": "code",
        "colab": {
          "autoexec": {
            "startup": false,
            "wait_interval": 0
          },
          "base_uri": "https://localhost:8080/",
          "height": 34
        },
        "outputId": "7e184d10-45c2-44e0-93a6-045d2b117f5a",
        "executionInfo": {
          "status": "ok",
          "timestamp": 1530254953146,
          "user_tz": -480,
          "elapsed": 4646,
          "user": {
            "displayName": "Alex Cayco Gajic",
            "photoUrl": "https://lh3.googleusercontent.com/a/default-user=s128",
            "userId": "114299333997536305257"
          }
        }
      },
      "cell_type": "code",
      "source": [
        "random.seed(0)\n",
        "\n",
        "def get_CV(spike_times):\n",
        "  \"\"\"Calculate the coefficient of variation\n",
        "  \n",
        "  Arguments:\n",
        "  spike_times -- list of spike times\n",
        "  \n",
        "  Returns:\n",
        "  CV -- coefficient of variation for the spike times\n",
        "  \"\"\"\n",
        "  ISIs = np.zeros((len(spike_times)-1))\n",
        "  for k in range(len(spike_times)-1):\n",
        "    ISIs[k] = spike_times[k+1]-spike_times[k]\n",
        "  \n",
        "  CV = np.std(ISIs)/np.mean(ISIs)\n",
        "  return CV\n",
        "\n",
        "\n",
        "t_max = 5; rate = 10\n",
        "t = np.arange(0,t_max,dt)\n",
        "\n",
        "pre_spike_train_ex = generate_Poisson_spikes(t,rate,n_ex)\n",
        "pre_spike_train_in = generate_Poisson_spikes(t,rate,n_in)\n",
        "\n",
        "gbar_max_ex = 17e-3\n",
        "gbar_max_in = gbar_max_ex * 8\n",
        "\n",
        "v,spike_times = simulate_postsynaptic_neuron(t,pre_spike_train_ex,pre_spike_train_in)\n",
        "CV_balanced = get_CV(spike_times)\n",
        "\n",
        "gbar_max_ex = 6.5e-3\n",
        "gbar_max_in = gbar_max_ex\n",
        "\n",
        "v,spike_times = simulate_postsynaptic_neuron(t,pre_spike_train_ex,pre_spike_train_in)\n",
        "CV_unbalanced = get_CV(spike_times)\n",
        "\n",
        "print(CV_balanced,CV_unbalanced)"
      ],
      "execution_count": 8,
      "outputs": [
        {
          "output_type": "stream",
          "text": [
            "0.774793911740589 0.15577586005132124\n"
          ],
          "name": "stdout"
        }
      ]
    },
    {
      "metadata": {
        "id": "vzXt_E3UyqA5",
        "colab_type": "text"
      },
      "cell_type": "markdown",
      "source": [
        "**EXPECTED OUTPUT**\n",
        "\n",
        "```0.774793911740589 0.15577586005132124```"
      ]
    },
    {
      "metadata": {
        "id": "maxVUKRL9B-q",
        "colab_type": "text"
      },
      "cell_type": "markdown",
      "source": [
        "**Exercise 6:** Now repeat the previous exercise while ranging the presynaptic range from 10 to 40 Hz. Plot the CV against the firing rate for both the balanced and unbalanced neurons. Why does the CV decrease with firing rate?"
      ]
    },
    {
      "metadata": {
        "id": "LktfeOCYzz8Y",
        "colab_type": "code",
        "colab": {
          "autoexec": {
            "startup": false,
            "wait_interval": 0
          },
          "base_uri": "https://localhost:8080/",
          "height": 17
        },
        "outputId": "62c54468-a357-4523-8343-68035f8335ac",
        "executionInfo": {
          "status": "ok",
          "timestamp": 1530069899483,
          "user_tz": -480,
          "elapsed": 1135,
          "user": {
            "displayName": "Marco Brigham",
            "photoUrl": "https://lh3.googleusercontent.com/a/default-user=s128",
            "userId": "107314306240247005641"
          }
        }
      },
      "cell_type": "code",
      "source": [
        "random.seed(0)\n",
        "\n",
        "# insert your text here"
      ],
      "execution_count": 14,
      "outputs": []
    },
    {
      "metadata": {
        "id": "NqB8-kIpS06h",
        "colab_type": "code",
        "colab": {
          "autoexec": {
            "startup": false,
            "wait_interval": 0
          },
          "base_uri": "https://localhost:8080/",
          "height": 280
        },
        "outputId": "8a0a00f6-4b36-4ef3-d4e5-304406b30363",
        "executionInfo": {
          "status": "ok",
          "timestamp": 1530255239442,
          "user_tz": -480,
          "elapsed": 107552,
          "user": {
            "displayName": "Alex Cayco Gajic",
            "photoUrl": "https://lh3.googleusercontent.com/a/default-user=s128",
            "userId": "114299333997536305257"
          }
        }
      },
      "cell_type": "code",
      "source": [
        "random.seed(0)\n",
        "\n",
        "plt.figure()\n",
        "for rate in np.arange(10,45,5):\n",
        "    CV_balanced_mean = 0\n",
        "    CV_unbalanced_mean = 0\n",
        "    \n",
        "    pre_spike_train_ex = generate_Poisson_spikes(t,rate,n_ex)\n",
        "    pre_spike_train_in = generate_Poisson_spikes(t,rate,n_in)\n",
        "\n",
        "    gbar_max_ex = 17e-3\n",
        "    gbar_max_in = gbar_max_ex * 8\n",
        "\n",
        "    v,spike_times = simulate_postsynaptic_neuron(t,pre_spike_train_ex,pre_spike_train_in)\n",
        "    CV_balanced = get_CV(spike_times)\n",
        "\n",
        "    plt.plot(rate,CV_balanced,'sb')\n",
        "    \n",
        "    gbar_max_ex = 6.5e-3\n",
        "    gbar_max_in = gbar_max_ex\n",
        "\n",
        "    v,spike_times = simulate_postsynaptic_neuron(t,pre_spike_train_ex,pre_spike_train_in)\n",
        "    CV_unbalanced = get_CV(spike_times)\n",
        "\n",
        "    plt.plot(rate,CV_unbalanced,'sr')\n",
        "\n",
        "plt.xlabel('input firing rate (Hz)')\n",
        "plt.ylabel('CV')\n",
        "plt.show()\n"
      ],
      "execution_count": 10,
      "outputs": [
        {
          "output_type": "display_data",
          "data": {
            "image/png": "[encoded data removed]",
            "text/plain": [
              "<matplotlib.figure.Figure at 0x7fe6a58db438>"
            ]
          },
          "metadata": {
            "tags": []
          }
        }
      ]
    },
    {
      "metadata": {
        "id": "9V65bKwAyrHd",
        "colab_type": "text"
      },
      "cell_type": "markdown",
      "source": [
        "**EXPECTED OUTPUT**\n",
        "\n",
        "![](https://github.com/ccnss/ccnss2018_students/raw/master/module1/figures/T4E6.png)"
      ]
    },
    {
      "metadata": {
        "id": "pmS6_fmm1My_",
        "colab_type": "text"
      },
      "cell_type": "markdown",
      "source": [
        "**Exercise 7:** Next we will see how STDP can help E/I balance in a postsynaptic neuron. First, execute the cell below to set the STDP parameters used in Tutorial 2."
      ]
    },
    {
      "metadata": {
        "id": "QsIHr-y_epVR",
        "colab_type": "code",
        "colab": {
          "autoexec": {
            "startup": false,
            "wait_interval": 0
          },
          "base_uri": "https://localhost:8080/",
          "height": 17
        },
        "outputId": "1b0acd13-5252-432e-e675-621000c51d8c",
        "executionInfo": {
          "status": "ok",
          "timestamp": 1530255323864,
          "user_tz": -480,
          "elapsed": 831,
          "user": {
            "displayName": "Alex Cayco Gajic",
            "photoUrl": "https://lh3.googleusercontent.com/a/default-user=s128",
            "userId": "114299333997536305257"
          }
        }
      },
      "cell_type": "code",
      "source": [
        "tau_stdp = 20e-3       # second\n",
        "A_plus = 5e-3  \n",
        "A_minus = A_plus*1.10\n",
        "\n",
        "gbar_max_ex = 0.015\n",
        "gbar_max_in = 0.015"
      ],
      "execution_count": 11,
      "outputs": []
    },
    {
      "metadata": {
        "id": "rbcdL2N7eoag",
        "colab_type": "text"
      },
      "cell_type": "markdown",
      "source": [
        "Then, fill in the functions below to simulate STDP. You can use your code from Tutorial 2, while adding nonplastic inhibitory synaptic inputs. Also fill in the function to simulate a postsynaptic neuron with frozen weights (i.e., with fixed $\\bar g_i$). Check that your code works by simulating a plastic postystnaptic neurons receiving input from 300 excitatory cells and 75 inhibitory cells (all firing at 20 Hz) for 5 seconds and plotting the average $\\bar g_i(t)$. Then simulate the postsynaptic neuron for 100 ms after freezing the synaptic weights to those at the end of the STDP protocol. Plot the membraine potential. \n"
      ]
    },
    {
      "metadata": {
        "id": "JOE-Zd3DefFJ",
        "colab_type": "code",
        "colab": {
          "autoexec": {
            "startup": false,
            "wait_interval": 0
          },
          "base_uri": "https://localhost:8080/",
          "height": 17
        },
        "outputId": "71e4e564-febf-4af4-b1ec-313c0f1e73b8",
        "executionInfo": {
          "status": "ok",
          "timestamp": 1530070010551,
          "user_tz": -480,
          "elapsed": 1937,
          "user": {
            "displayName": "Marco Brigham",
            "photoUrl": "https://lh3.googleusercontent.com/a/default-user=s128",
            "userId": "107314306240247005641"
          }
        }
      },
      "cell_type": "code",
      "source": [
        "random.seed(0)\n",
        "\n",
        "def generate_P(t,pre_spike_train):\n",
        "  \"\"\" Generate P to track presynaptic spikes\n",
        "  \n",
        "  Arguments:\n",
        "  t -- time\n",
        "  pre_spike_train -- presynaptic spike train matrix, same length as t\n",
        "  \n",
        "  Returns:\n",
        "  P -- matrix, ith row is P for the ith presynaptic input \n",
        "  \"\"\"\n",
        "  # insert your code here\n",
        "  return P\n",
        "\n",
        "def simulate_postsynaptic_neuron_plastic(t,pre_spike_train_ex,pre_spike_train_in):\n",
        "    \"\"\"Simulate a plastic neuron\n",
        "    \n",
        "    Arguments:\n",
        "    t -- time\n",
        "    pre_spike_train_ex -- excitatory presynaptic spike train matrix, same length as t\n",
        "    pre_spike_train_in -- inhibitory presynaptic spike train matrix, same length as t\n",
        "  \n",
        "    Returns:\n",
        "    gbar -- matrix, ith row is peak excitatory conductance \n",
        "            over time for ith presynaptic neuron\n",
        "    v -- membrane potential\n",
        "    spike_times -- list of spike times \n",
        "    \"\"\"\n",
        "    # insert your code here\n",
        "    return gbar,v\n",
        "\n",
        "\n",
        "def simulate_postsynaptic_neuron_frozen(t,pre_spike_train_ex,pre_spike_train_in,gbar):\n",
        "    \"\"\"Simulate the postsynaptic neuron after freezing the weights\n",
        "    \n",
        "    Arguments:\n",
        "    t -- time\n",
        "    pre_spike_train_ex -- excitatory presynaptic spike train matrix, same length as t\n",
        "    pre_spike_train_in -- inhibitory presynaptic spike train matrix, same length as t\n",
        "    gbar -- vector, ith element is peak excitatory conductance \n",
        "            over time for ith presynaptic neuron\n",
        "            \n",
        "    Returns:\n",
        "    v -- membrane potential\n",
        "    spike_times -- list of spike times \n",
        "    \"\"\"\n",
        "    # insert your code here\n",
        "    return v,spike_times\n",
        "  \n",
        "# insert your code here"
      ],
      "execution_count": 17,
      "outputs": []
    },
    {
      "metadata": {
        "id": "MK7VN4p4ctUF",
        "colab_type": "code",
        "colab": {
          "autoexec": {
            "startup": false,
            "wait_interval": 0
          },
          "base_uri": "https://localhost:8080/",
          "height": 558
        },
        "outputId": "932902d8-32dd-4946-a3ca-5d3a4afdb837",
        "executionInfo": {
          "status": "ok",
          "timestamp": 1530255362023,
          "user_tz": -480,
          "elapsed": 3687,
          "user": {
            "displayName": "Alex Cayco Gajic",
            "photoUrl": "https://lh3.googleusercontent.com/a/default-user=s128",
            "userId": "114299333997536305257"
          }
        }
      },
      "cell_type": "code",
      "source": [
        "random.seed(0)\n",
        "\n",
        "tau_stdp = 20e-3       # second\n",
        "A_plus = 5e-3  \n",
        "A_minus = A_plus*1.10\n",
        "\n",
        "gbar_max_ex = 0.015\n",
        "gbar_max_in = 0.015\n",
        "\n",
        "random.seed(0)\n",
        "\n",
        "def generate_P(t,pre_spike_train):\n",
        "  \"\"\" Generate P to track presynaptic spikes\n",
        "  \n",
        "  Arguments:\n",
        "  t -- time\n",
        "  pre_spike_train -- presynaptic spike train matrix, same length as t\n",
        "  \n",
        "  Returns:\n",
        "  P -- matrix, ith row is P for the ith presynaptic input \n",
        "  \"\"\"\n",
        "  n = pre_spike_train.shape[0]\n",
        "  P = np.zeros((n,len(t)))\n",
        "  for k in range(n):\n",
        "    for j in range(len(t)-1):\n",
        "      P[k,j+1] = P[k,j] - dt/tau_stdp * P[k,j]\n",
        "      if pre_spike_train[k,j] == 1:\n",
        "         P[k,j+1] = P[k,j] + A_plus;\n",
        "  return P\n",
        "\n",
        "\n",
        "def simulate_postsynaptic_neuron_plastic(t,pre_spike_train_ex,pre_spike_train_in):\n",
        "    \"\"\"Simulate a plastic neuron\n",
        "    \n",
        "    Arguments:\n",
        "    t -- time\n",
        "    pre_spike_train_ex -- excitatory presynaptic spike train matrix, same length as t\n",
        "    pre_spike_train_in -- inhibitory presynaptic spike train matrix, same length as t\n",
        "  \n",
        "    Returns:\n",
        "    gbar -- matrix, ith row is peak excitatory conductance \n",
        "            over time for ith presynaptic neuron\n",
        "    v -- membrane potential\n",
        "    spike_times -- list of spike times \n",
        "    \"\"\"\n",
        "    n_ex = pre_spike_train_ex.shape[0]\n",
        "    n_in = pre_spike_train_in.shape[0]\n",
        "    spike_times = []\n",
        "    P = generate_P(t,pre_spike_train_ex)\n",
        "    # Simulate\n",
        "    spike_times = []\n",
        "    v = np.zeros(len(t))\n",
        "    M = np.zeros(len(t))\n",
        "    g_ex = np.zeros(len(t))\n",
        "    g_in = np.zeros(len(t))\n",
        "    gbar = np.zeros((n_ex,len(t)))\n",
        "    gbar[:,0] = gbar_max_ex\n",
        "    v[0] = el\n",
        "    for j in range(len(t)-1):\n",
        "        v[j+1] = v[j] + dt / tau * (el - v[j] + g_ex[j]*(e_ex-v[j])+ g_in[j]*(e_in-v[j]))\n",
        "        M[j+1] = M[j] - dt / tau_stdp * M[j]\n",
        "        g_ex[j+1] = g_ex[j] - dt / tau_syn * g_ex[j]\n",
        "        g_in[j+1] = g_in[j] - dt / tau_syn * g_in[j]\n",
        "        gbar[:,j+1] = gbar[:,j]\n",
        "        for k in range(n_ex):\n",
        "          if pre_spike_train_ex[k,j] == 1:\n",
        "            g_ex[j+1] = g_ex[j+1]+gbar[k,j]\n",
        "            gbar[k,j+1] = gbar[k,j] + M[j]*gbar_max_ex\n",
        "            if gbar[k,j+1] < 0:\n",
        "              gbar[k,j+1] = 0\n",
        "        for k in range(n_in):\n",
        "          if pre_spike_train_in[k,j] == 1:\n",
        "            g_in[j+1] = g_in[j+1]+gbar_max_in\n",
        "        if v[j] >= vth:\n",
        "            v[j+1] = vr\n",
        "            spike_times.append(t[j])\n",
        "            M[j+1] = M[j] - A_minus\n",
        "            gbar[:,j+1] = gbar[:,j] + P[:,j]*gbar_max_ex\n",
        "            for k in range(n_ex):\n",
        "              if gbar[k,j+1]>gbar_max_ex:\n",
        "                gbar[k,j+1] = gbar_max_ex\n",
        "    return gbar,v\n",
        "\n",
        "\n",
        "def simulate_postsynaptic_neuron_frozen(t,pre_spike_train_ex,pre_spike_train_in,gbar):\n",
        "    \"\"\"Simulate the postsynaptic neuron after freezing the weights\n",
        "    \n",
        "    Arguments:\n",
        "    t -- time\n",
        "    pre_spike_train_ex -- excitatory presynaptic spike train matrix, same length as t\n",
        "    pre_spike_train_in -- inhibitory presynaptic spike train matrix, same length as t\n",
        "    gbar -- vector, ith element is peak excitatory conductance \n",
        "            over time for ith presynaptic neuron\n",
        "            \n",
        "    Returns:\n",
        "    v -- membrane potential\n",
        "    spike_times -- list of spike times \n",
        "    \"\"\"\n",
        "    n_ex = pre_spike_train_ex.shape[0]\n",
        "    n_in = pre_spike_train_in.shape[0]\n",
        "    spike_times = []\n",
        "    v = np.zeros(len(t))\n",
        "    g_ex = np.zeros(len(t))\n",
        "    g_in = np.zeros(len(t))\n",
        "    v[0] = el\n",
        "    for j in range(len(t)-1):\n",
        "        v[j+1] = v[j] + dt / tau * (el - v[j] + g_ex[j]*(e_ex-v[j])+ g_in[j]*(e_in-v[j]))\n",
        "        g_ex[j+1] = g_ex[j] - dt / tau_syn * g_ex[j]\n",
        "        g_in[j+1] = g_in[j] - dt / tau_syn * g_in[j]\n",
        "        for k in range(n_ex):\n",
        "          if pre_spike_train_ex[k,j] == 1:\n",
        "            g_ex[j+1] = g_ex[j+1]+gbar[k]\n",
        "        for k in range(n_in):\n",
        "          if pre_spike_train_in[k,j] == 1:\n",
        "            g_in[j+1] = g_in[j+1]+gbar_max_in\n",
        "        if v[j] >= vth:\n",
        "            v[j+1] = vr\n",
        "            spike_times.append(t[j])\n",
        "    return v,spike_times\n",
        "  \n",
        "  \n",
        "t_max = 5;\n",
        "t = np.arange(0,t_max,dt)\n",
        "\n",
        "n_ex = 300; n_in = 75; rate = 20\n",
        "\n",
        "pre_spike_train_ex = generate_Poisson_spikes(t,rate,n_ex)\n",
        "pre_spike_train_in = generate_Poisson_spikes(t,rate,n_in)\n",
        "\n",
        "gbar,v = simulate_postsynaptic_neuron_plastic(t,pre_spike_train_ex,pre_spike_train_in)\n",
        "\n",
        "plt.figure()\n",
        "plt.plot(t,np.mean(gbar,axis=0))\n",
        "plt.xlabel('time (s)')\n",
        "plt.ylabel('average weight')\n",
        "plt.show()\n",
        "\n",
        "t_max = 100e-3;\n",
        "t = np.arange(0,t_max,dt)\n",
        "\n",
        "v,spike_times = simulate_postsynaptic_neuron_frozen(t,pre_spike_train_ex,pre_spike_train_in,gbar[:,-1])\n",
        "\n",
        "plt.figure()\n",
        "plt.plot(t,v)\n",
        "plt.xlabel('t (s)')\n",
        "plt.ylabel('V(t)')"
      ],
      "execution_count": 13,
      "outputs": [
        {
          "output_type": "display_data",
          "data": {
            "image/png": "[encoded data removed]",
            "text/plain": [
              "<matplotlib.figure.Figure at 0x7fe6a34de438>"
            ]
          },
          "metadata": {
            "tags": []
          }
        },
        {
          "output_type": "execute_result",
          "data": {
            "text/plain": [
              "Text(0,0.5,'V(t)')"
            ]
          },
          "metadata": {
            "tags": []
          },
          "execution_count": 13
        },
        {
          "output_type": "display_data",
          "data": {
            "image/png": "[encoded data removed]",
            "text/plain": [
              "<matplotlib.figure.Figure at 0x7fe6a347a630>"
            ]
          },
          "metadata": {
            "tags": []
          }
        }
      ]
    },
    {
      "metadata": {
        "id": "Igh4Nyl_ysOI",
        "colab_type": "text"
      },
      "cell_type": "markdown",
      "source": [
        "**EXPECTED OUTPUT**\n",
        "\n",
        "![](https://github.com/ccnss/ccnss2018_students/raw/master/module1/figures/T4E7a.png)\n",
        "![](https://github.com/ccnss/ccnss2018_students/raw/master/module1/figures/T4E7b.png)\n"
      ]
    },
    {
      "metadata": {
        "id": "koh39TRi1UMx",
        "colab_type": "text"
      },
      "cell_type": "markdown",
      "source": [
        "**Exercise 8:** Now increase $t_{max}$ to 1000 s and simulate STDP by executing the following cell (warning: this is really slow and might kill all your memory). "
      ]
    },
    {
      "metadata": {
        "id": "pr3jjkO2VQAu",
        "colab_type": "code",
        "colab": {
          "autoexec": {
            "startup": false,
            "wait_interval": 0
          },
          "base_uri": "https://localhost:8080/",
          "height": 37
        },
        "outputId": "1501a5b3-ac60-447e-cd52-3c31618cd14f",
        "executionInfo": {
          "status": "ok",
          "timestamp": 1530255970684,
          "user_tz": -480,
          "elapsed": 459059,
          "user": {
            "displayName": "Alex Cayco Gajic",
            "photoUrl": "https://lh3.googleusercontent.com/a/default-user=s128",
            "userId": "114299333997536305257"
          }
        }
      },
      "cell_type": "code",
      "source": [
        "random.seed(0)\n",
        "  \n",
        "t_max = 1000;\n",
        "t = np.arange(0,t_max,dt)\n",
        "\n",
        "n_ex = 300; n_in = 75; rate = 20\n",
        "\n",
        "pre_spike_train_ex = generate_Poisson_spikes(t,rate,n_ex)\n",
        "pre_spike_train_in = generate_Poisson_spikes(t,rate,n_in)\n",
        "\n",
        "gbar, v = simulate_postsynaptic_neuron_plastic(t,pre_spike_train_ex,pre_spike_train_in)\n"
      ],
      "execution_count": 16,
      "outputs": []
    },
    {
      "metadata": {
        "id": "OGQusPD4VbRG",
        "colab_type": "text"
      },
      "cell_type": "markdown",
      "source": [
        "When it has completed, plot the histograms at the end of learning and 90% of the way through. Has the system converged?"
      ]
    },
    {
      "metadata": {
        "id": "e0dgv9aihytu",
        "colab_type": "code",
        "colab": {
          "autoexec": {
            "startup": false,
            "wait_interval": 0
          },
          "base_uri": "https://localhost:8080/",
          "height": 17
        },
        "outputId": "4e6a537a-e921-40ec-fced-55589b6907a7",
        "executionInfo": {
          "status": "ok",
          "timestamp": 1530070015760,
          "user_tz": -480,
          "elapsed": 1198,
          "user": {
            "displayName": "Marco Brigham",
            "photoUrl": "https://lh3.googleusercontent.com/a/default-user=s128",
            "userId": "107314306240247005641"
          }
        }
      },
      "cell_type": "code",
      "source": [
        "random.seed(0)\n",
        "\n",
        "# insert your code here"
      ],
      "execution_count": 19,
      "outputs": []
    },
    {
      "metadata": {
        "id": "wBLIizJEeLnX",
        "colab_type": "code",
        "colab": {
          "autoexec": {
            "startup": false,
            "wait_interval": 0
          },
          "base_uri": "https://localhost:8080/",
          "height": 279
        },
        "outputId": "b96313d5-91c9-4d0a-97dd-aecf121e1db4",
        "executionInfo": {
          "status": "ok",
          "timestamp": 1530256092744,
          "user_tz": -480,
          "elapsed": 1002,
          "user": {
            "displayName": "Alex Cayco Gajic",
            "photoUrl": "https://lh3.googleusercontent.com/a/default-user=s128",
            "userId": "114299333997536305257"
          }
        }
      },
      "cell_type": "code",
      "source": [
        "\n",
        "plt.figure()\n",
        "plt.subplot(2,1,1); plt.hist(gbar[:,np.where(t>t_max*0.9)[0][0]])\n",
        "plt.ylabel('number')\n",
        "plt.subplot(2,1,2); plt.hist(gbar[:,-1])\n",
        "plt.xlabel('gbar_i')\n",
        "plt.ylabel('number')\n",
        "plt.show()"
      ],
      "execution_count": 17,
      "outputs": [
        {
          "output_type": "display_data",
          "data": {
            "image/png": "[encoded data removed]",
            "text/plain": [
              "<matplotlib.figure.Figure at 0x7fe6a36cd550>"
            ]
          },
          "metadata": {
            "tags": []
          }
        }
      ]
    },
    {
      "metadata": {
        "id": "rVo0EVg-huwE",
        "colab_type": "text"
      },
      "cell_type": "markdown",
      "source": [
        "**EXPECTED OUTPUT**\n",
        "\n",
        "![](https://github.com/ccnss/ccnss2018_students/raw/master/module1/figures/T4E8.png)"
      ]
    },
    {
      "metadata": {
        "id": "jZ9G_-tIhI_i",
        "colab_type": "text"
      },
      "cell_type": "markdown",
      "source": [
        "**Exercise 9:** Finally, use the weights at the end of STDP (from Exercise 8) to simulate the postsynaptic neuron for  $t_{max}=15 s$(use  the function ``simulate_postsynaptic_neuron_frozen``).\n",
        "calculate the CV at the beginning and at the end of STDP (calculate the CV over a period of ). "
      ]
    },
    {
      "metadata": {
        "id": "6C0zkNjNh120",
        "colab_type": "code",
        "colab": {
          "autoexec": {
            "startup": false,
            "wait_interval": 0
          },
          "base_uri": "https://localhost:8080/",
          "height": 17
        },
        "outputId": "a6c0a99b-0454-49b0-a8f2-488d65cb8a86",
        "executionInfo": {
          "status": "ok",
          "timestamp": 1530070302052,
          "user_tz": -480,
          "elapsed": 803,
          "user": {
            "displayName": "Marco Brigham",
            "photoUrl": "https://lh3.googleusercontent.com/a/default-user=s128",
            "userId": "107314306240247005641"
          }
        }
      },
      "cell_type": "code",
      "source": [
        "random.seed(0)\n",
        "\n",
        "# insert your code here"
      ],
      "execution_count": 21,
      "outputs": []
    },
    {
      "metadata": {
        "id": "BlH9wt01Pve1",
        "colab_type": "code",
        "colab": {
          "autoexec": {
            "startup": false,
            "wait_interval": 0
          },
          "base_uri": "https://localhost:8080/",
          "height": 34
        },
        "outputId": "d75a6f4e-2f00-4b89-ba39-45deebdc53e2",
        "executionInfo": {
          "status": "ok",
          "timestamp": 1530256120575,
          "user_tz": -480,
          "elapsed": 5122,
          "user": {
            "displayName": "Alex Cayco Gajic",
            "photoUrl": "https://lh3.googleusercontent.com/a/default-user=s128",
            "userId": "114299333997536305257"
          }
        }
      },
      "cell_type": "code",
      "source": [
        "random.seed(0)\n",
        "\n",
        "t_max=15\n",
        "t = np.arange(0, t_max, dt)\n",
        "\n",
        "pre_spike_train_ex = generate_Poisson_spikes(t,rate,n_ex)\n",
        "pre_spike_train_in = generate_Poisson_spikes(t,rate,n_in)\n",
        "\n",
        "v,spike_times = simulate_postsynaptic_neuron_frozen(t,pre_spike_train_ex,pre_spike_train_in,gbar[:,0])\n",
        "CV_before = get_CV(spike_times)\n",
        "\n",
        "v,spike_times = simulate_postsynaptic_neuron_frozen(t,pre_spike_train_ex,pre_spike_train_in,gbar[:,-1])\n",
        "CV_after = get_CV(spike_times)\n",
        "\n",
        "print(CV_before,CV_after)"
      ],
      "execution_count": 18,
      "outputs": [
        {
          "output_type": "stream",
          "text": [
            "0.10194746220181417 0.7006726102447001\n"
          ],
          "name": "stdout"
        }
      ]
    },
    {
      "metadata": {
        "id": "BjnNEJMbytan",
        "colab_type": "text"
      },
      "cell_type": "markdown",
      "source": [
        "**EXPECTED OUTPUT**\n",
        "\n",
        "```0.10194746220181417 0.7006726102447001```"
      ]
    }
  ]
}